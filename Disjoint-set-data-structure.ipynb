{
 "cells": [
  {
   "cell_type": "markdown",
   "metadata": {},
   "source": [
    "# Disjoint set data structure \n",
    "\n",
    "As per wiki \"in computer science, a disjoint-set data structure (also called a union–find data structure or merge–find set) is a data structure that tracks a set of elements partitioned into a number of disjoint (non-overlapping) subsets\" \n",
    "\n",
    "This document is based on the video tutorial https://youtu.be/ID00PMy0-vE\n",
    "\n",
    "Disjoint set is a data structure which supports 3 operations:\n",
    "\n",
    "1. Make set\n",
    "2. Union\n",
    "3. Find set\n",
    "\n",
    "*Make set* is an operation used to create a set with just one element\n",
    "\n",
    "*Union* is an operation that takes two sets and merge them into one set\n",
    "\n",
    "*Find set* is an operation that takes an element _e_ as input and returns the identity element of the set to which _e_ belongs to. Identity element acts as the representative of a set. \n",
    "\n",
    "The above three operations are implemented using *union by rank* and *path compression* operations\n",
    "\n",
    "\n",
    "**Example**\n",
    "\n",
    "Suppose we have the following elements:\n",
    "\n",
    "1,2,3,4,5\n",
    "\n",
    "The first step is to represent each of them as single sets using *Make set* operation. This will give us the following disjoint sets:\n",
    "\n",
    "{1}, {2}, {3}, {4}, {5}, {6}, {7}\n",
    "\n",
    "Suppose we call *union({1},{2})*"
   ]
  },
  {
   "cell_type": "code",
   "execution_count": null,
   "metadata": {
    "collapsed": true
   },
   "outputs": [],
   "source": []
  }
 ],
 "metadata": {
  "kernelspec": {
   "display_name": "Python 3",
   "language": "python",
   "name": "python3"
  },
  "language_info": {
   "codemirror_mode": {
    "name": "ipython",
    "version": 3
   },
   "file_extension": ".py",
   "mimetype": "text/x-python",
   "name": "python",
   "nbconvert_exporter": "python",
   "pygments_lexer": "ipython3",
   "version": "3.5.3"
  }
 },
 "nbformat": 4,
 "nbformat_minor": 2
}
